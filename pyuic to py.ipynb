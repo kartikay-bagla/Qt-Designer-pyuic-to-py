{
 "cells": [
  {
   "cell_type": "code",
   "execution_count": 13,
   "metadata": {},
   "outputs": [],
   "source": [
    "import re\n",
    "import string\n",
    "\n",
    "pyuic_file_path = \"calc_full_template.py\"\n",
    "f = open(pyuic_file_path)\n",
    "lines = f.readlines()"
   ]
  },
  {
   "cell_type": "code",
   "execution_count": 14,
   "metadata": {},
   "outputs": [],
   "source": [
    "lines = [i for i in lines if i != \"\\n\"]\n",
    "lines = [i for i in lines if i[0] != \"#\"]"
   ]
  },
  {
   "cell_type": "code",
   "execution_count": 15,
   "metadata": {},
   "outputs": [],
   "source": [
    "spaces = [\"\\n\"] * 3\n",
    "written_files = []\n",
    "written_files.append(lines[0])\n",
    "import_line = [\"import sys\\n\"]\n",
    "written_files += import_line\n",
    "written_files += spaces\n",
    "written_files += lines[1:6]"
   ]
  },
  {
   "cell_type": "code",
   "execution_count": 16,
   "metadata": {},
   "outputs": [],
   "source": [
    "ind = 0\n",
    "for line in lines:\n",
    "    if line[0:5] == \"class\":\n",
    "        ind = lines.index(line) + 1\n",
    "lines = lines[ind::]"
   ]
  },
  {
   "cell_type": "code",
   "execution_count": 17,
   "metadata": {},
   "outputs": [
    {
     "name": "stdout",
     "output_type": "stream",
     "text": [
      "    def setupUi(self, MainWindow):\n",
      "\n",
      "    def retranslateUi(self, MainWindow):\n",
      "\n"
     ]
    }
   ],
   "source": [
    "for line in lines:\n",
    "    if line[4:7] == \"def\":\n",
    "        print(line)\n",
    "        lines.remove(line)"
   ]
  },
  {
   "cell_type": "code",
   "execution_count": 18,
   "metadata": {},
   "outputs": [],
   "source": [
    "for j in range(3):\n",
    "    for i in range(len(lines)):\n",
    "        lines[i] = lines[i].replace(\"MainWindow\", \"self\", 10)"
   ]
  },
  {
   "cell_type": "code",
   "execution_count": 19,
   "metadata": {},
   "outputs": [],
   "source": [
    "for i in range(len(lines)):\n",
    "    lines[i] = lines[i].replace(\"_translate(\\\"self\\\", \", \"\", 10)"
   ]
  },
  {
   "cell_type": "code",
   "execution_count": 20,
   "metadata": {},
   "outputs": [],
   "source": [
    "for i in range(len(lines)):\n",
    "    lines[i] = lines[i].replace(\", None)\", \"\", 10)"
   ]
  },
  {
   "cell_type": "code",
   "execution_count": 21,
   "metadata": {},
   "outputs": [],
   "source": [
    "main_class = [\"class Window(QtGui.QMainWindow):\\n\",\n",
    "             \"    def set_layout(self):\\n\",\n",
    "             \"        \\\"\\\"\\\"Creates the layout and initializes all objects\\\"\\\"\\\" \\n\",\n",
    "             \"        self.setWindowTitle(\\\"Title Goes Here\\\") \\n\"]\n",
    "written_files += spaces\n",
    "written_files += main_class"
   ]
  },
  {
   "cell_type": "code",
   "execution_count": 22,
   "metadata": {},
   "outputs": [],
   "source": [
    "ind_if = 0\n",
    "for i in range(len(lines)):\n",
    "    if lines[i][0:2] == \"if\":\n",
    "        ind_if = i"
   ]
  },
  {
   "cell_type": "code",
   "execution_count": 23,
   "metadata": {},
   "outputs": [],
   "source": [
    "written_files += lines[:ind_if]"
   ]
  },
  {
   "cell_type": "code",
   "execution_count": 24,
   "metadata": {},
   "outputs": [],
   "source": [
    "written_files += spaces\n",
    "init_lines = [\"    def __init__(self):\\n\",\n",
    "              \"        \\\"\\\"\\\"The initialization method, which intializes the actions of each button and shows the GUI\\\"\\\"\\\" \\n\",\n",
    "              \"        super(Window, self).__init__()\\n\",\n",
    "              \"        self.set_layout()\\n\",\n",
    "              \"        self.show()\\n\"]\n",
    "written_files = written_files + init_lines + spaces\n",
    "main_lines = [\"if __name__ == \\\"__main__\\\":\\n\",\n",
    "              \"    app = QtGui.QApplication(sys.argv)\\n\",\n",
    "              \"    MainWindow = Window()\\n\",\n",
    "              \"    sys.exit(app.exec_())\\n\"]\n",
    "written_files += main_lines\n",
    "\n",
    "for i in range(len(written_files)):\n",
    "    written_files[i] = written_files[i].replace(\"self.retranslateUi(self)\", \"\\n\")\n",
    "    written_files[i] = written_files[i].replace(\"QtCore.QMetaObject.connectSlotsByName(self)\", \"\\n\")\n",
    "with open(\"converted.py\", \"w\") as w:\n",
    "    w.writelines(written_files)\n",
    "    w.flush()\n",
    "f.close()"
   ]
  }
 ],
 "metadata": {
  "kernelspec": {
   "display_name": "Python 3",
   "language": "python",
   "name": "python3"
  },
  "language_info": {
   "codemirror_mode": {
    "name": "ipython",
    "version": 3
   },
   "file_extension": ".py",
   "mimetype": "text/x-python",
   "name": "python",
   "nbconvert_exporter": "python",
   "pygments_lexer": "ipython3",
   "version": "3.6.5"
  }
 },
 "nbformat": 4,
 "nbformat_minor": 2
}
